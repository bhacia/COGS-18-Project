{
 "cells": [
  {
   "cell_type": "markdown",
   "metadata": {},
   "source": [
    "# Project Description"
   ]
  },
  {
   "cell_type": "markdown",
   "metadata": {},
   "source": [
    "This project takes messages, or rather emails, and encodes the message to make it into a \"secret email\". This function can also take a \"secret email\" (AKA the encoded message), and decode it into the original message. I wanted to do this project because if someone doesn't have a lot of privacy, they can use this type of function to send \"secret\" messages. I also thought that it was cool to make a modern communication code since I liked looking at hieroglyphs as a kid.\n",
    "\n",
    "Note: This program expects the message to ONLY consist of letters."
   ]
  },
  {
   "cell_type": "markdown",
   "metadata": {},
   "source": [
    "## Project Code\n",
    "\n",
    "If it makes sense for your project, you can have code and outputs here in the notebook as well."
   ]
  },
  {
   "cell_type": "code",
   "execution_count": 1,
   "metadata": {},
   "outputs": [],
   "source": [
    "from my_module.functions import encoder, decoder\n",
    "from my_module.classes import Email\n",
    "from my_module.test_functions import test_encoder, test_decoder"
   ]
  },
  {
   "cell_type": "code",
   "execution_count": 2,
   "metadata": {},
   "outputs": [],
   "source": [
    "lizetteEmail = Email(\"HELLO How are you\")\n",
    "brigetteEmail = Email(\"i am doing greaty GREAT\")\n",
    "\n",
    "momEmail = Email(\"What will we watch tonight\")\n",
    "myEmail = Email(\"How about The Amazing Spiderman One\")"
   ]
  },
  {
   "cell_type": "code",
   "execution_count": 3,
   "metadata": {},
   "outputs": [
    {
     "name": "stdout",
     "output_type": "stream",
     "text": [
      "HELLO How are you\n",
      "Đ3ĔĔ0èĐķĿè@ĺĭèŁķĽ\n",
      "HELLO How are you\n",
      "\n",
      "\n",
      "i am doing greaty GREAT\n",
      "!è@ĵèĬķ!Ķ&è&ĺĭ@ļŁè6Ě3ĉĜ\n",
      "i am doing greaty GREAT\n",
      "\n",
      "\n",
      "What will we watch tonight\n",
      "ğİ@ļèĿ!11èĿĭèĿ@ļīİèļķĶ!&İļ\n",
      "What will we watch tonight\n",
      "\n",
      "\n",
      "How about The Amazing Spiderman One\n",
      "ĐķĿè@ĪķĽļèĜİĭèĉĵ@ł!Ķ&è$ĸ!Ĭĭĺĵ@Ķè0Ķĭ\n",
      "How about The Amazing Spiderman One\n"
     ]
    }
   ],
   "source": [
    "Email.printOriginalMessage(lizetteEmail)\n",
    "Email.printEncodedMessage(lizetteEmail)\n",
    "Email.printDecodedMessage(lizetteEmail)\n",
    "\n",
    "print(\"\\n\")\n",
    "\n",
    "Email.printOriginalMessage(brigetteEmail)\n",
    "Email.printEncodedMessage(brigetteEmail)\n",
    "Email.printDecodedMessage(brigetteEmail)\n",
    "\n",
    "print(\"\\n\")\n",
    "\n",
    "Email.printOriginalMessage(momEmail)\n",
    "Email.printEncodedMessage(momEmail)\n",
    "Email.printDecodedMessage(momEmail)\n",
    "\n",
    "print(\"\\n\")\n",
    "\n",
    "Email.printOriginalMessage(myEmail)\n",
    "Email.printEncodedMessage(myEmail)\n",
    "Email.printDecodedMessage(myEmail)"
   ]
  },
  {
   "cell_type": "code",
   "execution_count": 4,
   "metadata": {},
   "outputs": [],
   "source": [
    "test_encoder()"
   ]
  },
  {
   "cell_type": "code",
   "execution_count": 5,
   "metadata": {},
   "outputs": [],
   "source": [
    "test_decoder()"
   ]
  },
  {
   "cell_type": "markdown",
   "metadata": {},
   "source": [
    "1. I didn't have any experience in Python before taking this course. I did however, have some experience in Java.\n",
    "2. I don't think my project went above and beyond since it's just a rather simple encoder/decoder program. However, I learned a few flaws within my project. For example, you shouldn't use punctuation when testing/using this program because of the dictionaries I added to the functions (ie: using i would turn into !, so when decoding, it'll turn ! into i, which would be bad if you had an actual ! in your message). There's also a little flaw with numbers as well, just like punctuation, therefore I wrote that the the program expects the message to only consist of letters."
   ]
  }
 ],
 "metadata": {
  "kernelspec": {
   "display_name": "Python 3 (ipykernel)",
   "language": "python",
   "name": "python3"
  },
  "language_info": {
   "codemirror_mode": {
    "name": "ipython",
    "version": 3
   },
   "file_extension": ".py",
   "mimetype": "text/x-python",
   "name": "python",
   "nbconvert_exporter": "python",
   "pygments_lexer": "ipython3",
   "version": "3.9.5"
  }
 },
 "nbformat": 4,
 "nbformat_minor": 2
}
